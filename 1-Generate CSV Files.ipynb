{
 "cells": [
  {
   "cell_type": "code",
   "execution_count": 1,
   "id": "44820c1c",
   "metadata": {},
   "outputs": [],
   "source": [
    "import csv\n",
    "\n",
    "headers = [\"Function ID\", \"p1\", \"p2\", \"p3\", \"p4\", \"p5\", \"p6\", \"p7\", \"p8\", \"p9\", \"p10\", \"p11\", \"p12\"]\n",
    "\n",
    "function_ids = [\"f1\", \"f2\", \"f3\", \"f4\", \"f5\", \"f6\", \"f7\", \"f8\", \"f9\", \"f10\", \"f11\", \"f12\", \n",
    "                \"f13\", \"f14\", \"f15\", \"f16\", \"f17\", \"f18\", \"f19\", \"f20\", \"f21\", \"f22\", \"f23\", \n",
    "                \"f24\", \"f25\", \"f26\", \"f27\", \"f28\", \"f29\", \"f30\"]\n",
    "\n",
    "data = []\n",
    "for function_id in function_ids:\n",
    "    row = [function_id] + [\"\"] * 12\n",
    "    data.append(row)\n",
    "\n",
    "with open('Dim 10.csv', 'w', newline='') as file:\n",
    "    writer = csv.writer(file)\n",
    "    writer.writerow(headers)\n",
    "    writer.writerows(data)"
   ]
  },
  {
   "cell_type": "markdown",
   "id": "fa9a002f",
   "metadata": {},
   "source": [
    "## generate csv files for each dim (Maens)"
   ]
  },
  {
   "cell_type": "code",
   "execution_count": 2,
   "id": "9f2aafd2",
   "metadata": {},
   "outputs": [],
   "source": [
    "import pandas as pd\n",
    "\n",
    "data_df = pd.read_csv('Dim 10.csv')\n",
    "\n",
    "for i in range(1, 15):\n",
    "    filename = f'Dim 10_{i}.csv'\n",
    "    data_df.to_csv(filename, index=False)"
   ]
  },
  {
   "cell_type": "code",
   "execution_count": 3,
   "id": "fb191e32",
   "metadata": {},
   "outputs": [],
   "source": [
    "import pandas as pd\n",
    "\n",
    "data_df = pd.read_csv('Dim 10.csv')\n",
    "\n",
    "for i in range(1, 15):\n",
    "    filename = f'Dim 30_{i}.csv'\n",
    "    data_df.to_csv(filename, index=False)"
   ]
  },
  {
   "cell_type": "code",
   "execution_count": 4,
   "id": "3ca1a577",
   "metadata": {},
   "outputs": [],
   "source": [
    "import pandas as pd\n",
    "\n",
    "data_df = pd.read_csv('Dim 10.csv')\n",
    "\n",
    "for i in range(1, 15):\n",
    "    filename = f'Dim 50_{i}.csv'\n",
    "    data_df.to_csv(filename, index=False)"
   ]
  },
  {
   "cell_type": "code",
   "execution_count": 5,
   "id": "e49a05d1",
   "metadata": {},
   "outputs": [],
   "source": [
    "import pandas as pd\n",
    "\n",
    "data_df = pd.read_csv('Dim 10.csv')\n",
    "\n",
    "for i in range(1, 15):\n",
    "    filename = f'Dim 100_{i}.csv'\n",
    "    data_df.to_csv(filename, index=False)"
   ]
  },
  {
   "cell_type": "markdown",
   "id": "b1e89555-38d3-4219-9d3d-0121bedee2f4",
   "metadata": {},
   "source": [
    "## generate csv files for each dim (STD)"
   ]
  },
  {
   "cell_type": "code",
   "execution_count": 6,
   "id": "0e84d07f",
   "metadata": {},
   "outputs": [],
   "source": [
    "import pandas as pd\n",
    "\n",
    "data_df = pd.read_csv('Dim 10.csv')\n",
    "\n",
    "for i in range(1, 15):\n",
    "    filename = f'Dim 10_std_{i}.csv'\n",
    "    data_df.to_csv(filename, index=False)"
   ]
  },
  {
   "cell_type": "code",
   "execution_count": 7,
   "id": "956688b5-027a-4450-8054-b3711d9f8e13",
   "metadata": {},
   "outputs": [],
   "source": [
    "import pandas as pd\n",
    "\n",
    "data_df = pd.read_csv('Dim 10.csv')\n",
    "\n",
    "for i in range(1, 15):\n",
    "    filename = f'Dim 30_std_{i}.csv'\n",
    "    data_df.to_csv(filename, index=False)"
   ]
  },
  {
   "cell_type": "code",
   "execution_count": 8,
   "id": "8ed0fbe6-df5b-4c7e-9bf7-fa9a5ad20c79",
   "metadata": {},
   "outputs": [],
   "source": [
    "import pandas as pd\n",
    "\n",
    "data_df = pd.read_csv('Dim 10.csv')\n",
    "\n",
    "for i in range(1, 15):\n",
    "    filename = f'Dim 50_std_{i}.csv'\n",
    "    data_df.to_csv(filename, index=False)"
   ]
  },
  {
   "cell_type": "code",
   "execution_count": 9,
   "id": "7c491678-e52c-413d-8475-86501954442a",
   "metadata": {},
   "outputs": [],
   "source": [
    "import pandas as pd\n",
    "\n",
    "data_df = pd.read_csv('Dim 10.csv')\n",
    "\n",
    "for i in range(1, 15):\n",
    "    filename = f'Dim 100_std_{i}.csv'\n",
    "    data_df.to_csv(filename, index=False)"
   ]
  }
 ],
 "metadata": {
  "kernelspec": {
   "display_name": "Python 3 (ipykernel)",
   "language": "python",
   "name": "python3"
  },
  "language_info": {
   "codemirror_mode": {
    "name": "ipython",
    "version": 3
   },
   "file_extension": ".py",
   "mimetype": "text/x-python",
   "name": "python",
   "nbconvert_exporter": "python",
   "pygments_lexer": "ipython3",
   "version": "3.11.7"
  }
 },
 "nbformat": 4,
 "nbformat_minor": 5
}
