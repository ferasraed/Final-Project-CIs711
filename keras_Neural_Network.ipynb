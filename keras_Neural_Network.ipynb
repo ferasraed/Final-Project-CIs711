{
  "cells": [
    {
      "cell_type": "markdown",
      "metadata": {
        "id": "view-in-github",
        "colab_type": "text"
      },
      "source": [
        "<a href=\"https://colab.research.google.com/github/ferasraed/Final-Project-CIs711/blob/main/keras_Neural_Network.ipynb\" target=\"_parent\"><img src=\"https://colab.research.google.com/assets/colab-badge.svg\" alt=\"Open In Colab\"/></a>"
      ]
    },
    {
      "cell_type": "markdown",
      "id": "fc749089-4224-4e37-b59f-022bd87283b2",
      "metadata": {
        "id": "fc749089-4224-4e37-b59f-022bd87283b2"
      },
      "source": [
        "# ***Setup***"
      ]
    },
    {
      "cell_type": "code",
      "execution_count": null,
      "id": "ea1c4f95-1ce0-499a-b62b-813281fe095a",
      "metadata": {
        "id": "ea1c4f95-1ce0-499a-b62b-813281fe095a"
      },
      "outputs": [],
      "source": [
        "import numpy as np\n",
        "import mnist\n",
        "import tensorflow as tf\n",
        "from tensorflow.keras.models import Sequential\n",
        "from tensorflow.keras.layers import Dense, Dropout\n",
        "from tensorflow.keras.utils import to_categorical\n",
        "from tensorflow.keras.optimizers import Adam\n",
        "\n",
        "path = r\"C:\\Users\\feras\\Desktop\\All\\Research Notebooks\\mnist.npz\"\n",
        "(train_images, train_labels), (test_images, test_labels) = tf.keras.datasets.mnist.load_data(path)"
      ]
    },
    {
      "cell_type": "markdown",
      "id": "b091c563-9e9d-4835-bf26-1943f313efa4",
      "metadata": {
        "id": "b091c563-9e9d-4835-bf26-1943f313efa4"
      },
      "source": [
        "# ***Preparing the Data***"
      ]
    },
    {
      "cell_type": "code",
      "execution_count": null,
      "id": "9c3241c2-e32c-4387-b107-74c0c24748dc",
      "metadata": {
        "id": "9c3241c2-e32c-4387-b107-74c0c24748dc"
      },
      "outputs": [],
      "source": [
        "# Normalize the images.\n",
        "train_images = (train_images / 255) - 0.5\n",
        "test_images = (test_images / 255) - 0.5\n",
        "\n",
        "# Flatten the images.\n",
        "train_images = train_images.reshape((-1, 784))\n",
        "test_images = test_images.reshape((-1, 784))"
      ]
    },
    {
      "cell_type": "markdown",
      "id": "40c8d98f-bc80-469f-940c-596e21028c0e",
      "metadata": {
        "id": "40c8d98f-bc80-469f-940c-596e21028c0e"
      },
      "source": [
        "# ***Building the Model***"
      ]
    },
    {
      "cell_type": "code",
      "execution_count": null,
      "id": "bc9a8c37-c233-4567-82e2-de72267bb213",
      "metadata": {
        "id": "bc9a8c37-c233-4567-82e2-de72267bb213",
        "outputId": "3a1e6872-b765-423f-db25-f90ce5d52a1f"
      },
      "outputs": [
        {
          "name": "stderr",
          "output_type": "stream",
          "text": [
            "C:\\Users\\feras\\anaconda3\\Lib\\site-packages\\keras\\src\\layers\\core\\dense.py:87: UserWarning: Do not pass an `input_shape`/`input_dim` argument to a layer. When using Sequential models, prefer using an `Input(shape)` object as the first layer in the model instead.\n",
            "  super().__init__(activity_regularizer=activity_regularizer, **kwargs)\n"
          ]
        }
      ],
      "source": [
        "model = Sequential([\n",
        "  Dense(64, activation='relu', input_shape=(784,)),\n",
        "  Dense(64, activation='relu'),\n",
        "  Dense(10, activation='relu'),\n",
        "])"
      ]
    },
    {
      "cell_type": "markdown",
      "id": "59a17f8f-6e07-46d8-8652-3bbeb2825f2b",
      "metadata": {
        "id": "59a17f8f-6e07-46d8-8652-3bbeb2825f2b"
      },
      "source": [
        "# ***Compiling the Model***"
      ]
    },
    {
      "cell_type": "code",
      "execution_count": null,
      "id": "9848f0a7-9ba2-4136-ab4c-8e023c42bd41",
      "metadata": {
        "id": "9848f0a7-9ba2-4136-ab4c-8e023c42bd41"
      },
      "outputs": [],
      "source": [
        "model.compile(\n",
        "  optimizer=Adam(learning_rate=0.005),\n",
        "  loss='categorical_crossentropy',\n",
        "  metrics=['accuracy'],\n",
        ")"
      ]
    },
    {
      "cell_type": "markdown",
      "id": "d38859cb-8d47-4ec8-8b11-bd84477c183a",
      "metadata": {
        "id": "d38859cb-8d47-4ec8-8b11-bd84477c183a"
      },
      "source": [
        "# ***Training the Model***"
      ]
    },
    {
      "cell_type": "code",
      "execution_count": null,
      "id": "d78dcfb8-604e-4d86-a70e-2d1d6c5b257f",
      "metadata": {
        "id": "d78dcfb8-604e-4d86-a70e-2d1d6c5b257f",
        "outputId": "b5f7198c-d368-4fc9-f216-28aa5e8b3ecf"
      },
      "outputs": [
        {
          "name": "stdout",
          "output_type": "stream",
          "text": [
            "Epoch 1/10\n",
            "\u001b[1m938/938\u001b[0m \u001b[32m━━━━━━━━━━━━━━━━━━━━\u001b[0m\u001b[37m\u001b[0m \u001b[1m4s\u001b[0m 3ms/step - accuracy: 0.1716 - loss: nan - val_accuracy: 0.0980 - val_loss: nan\n",
            "Epoch 2/10\n",
            "\u001b[1m938/938\u001b[0m \u001b[32m━━━━━━━━━━━━━━━━━━━━\u001b[0m\u001b[37m\u001b[0m \u001b[1m2s\u001b[0m 2ms/step - accuracy: 0.0994 - loss: nan - val_accuracy: 0.0980 - val_loss: nan\n",
            "Epoch 3/10\n",
            "\u001b[1m938/938\u001b[0m \u001b[32m━━━━━━━━━━━━━━━━━━━━\u001b[0m\u001b[37m\u001b[0m \u001b[1m2s\u001b[0m 2ms/step - accuracy: 0.0983 - loss: nan - val_accuracy: 0.0980 - val_loss: nan\n",
            "Epoch 4/10\n",
            "\u001b[1m938/938\u001b[0m \u001b[32m━━━━━━━━━━━━━━━━━━━━\u001b[0m\u001b[37m\u001b[0m \u001b[1m2s\u001b[0m 2ms/step - accuracy: 0.1019 - loss: nan - val_accuracy: 0.0980 - val_loss: nan\n",
            "Epoch 5/10\n",
            "\u001b[1m938/938\u001b[0m \u001b[32m━━━━━━━━━━━━━━━━━━━━\u001b[0m\u001b[37m\u001b[0m \u001b[1m2s\u001b[0m 2ms/step - accuracy: 0.0988 - loss: nan - val_accuracy: 0.0980 - val_loss: nan\n",
            "Epoch 6/10\n",
            "\u001b[1m938/938\u001b[0m \u001b[32m━━━━━━━━━━━━━━━━━━━━\u001b[0m\u001b[37m\u001b[0m \u001b[1m2s\u001b[0m 2ms/step - accuracy: 0.1000 - loss: nan - val_accuracy: 0.0980 - val_loss: nan\n",
            "Epoch 7/10\n",
            "\u001b[1m938/938\u001b[0m \u001b[32m━━━━━━━━━━━━━━━━━━━━\u001b[0m\u001b[37m\u001b[0m \u001b[1m2s\u001b[0m 2ms/step - accuracy: 0.0995 - loss: nan - val_accuracy: 0.0980 - val_loss: nan\n",
            "Epoch 8/10\n",
            "\u001b[1m938/938\u001b[0m \u001b[32m━━━━━━━━━━━━━━━━━━━━\u001b[0m\u001b[37m\u001b[0m \u001b[1m2s\u001b[0m 2ms/step - accuracy: 0.0999 - loss: nan - val_accuracy: 0.0980 - val_loss: nan\n",
            "Epoch 9/10\n",
            "\u001b[1m938/938\u001b[0m \u001b[32m━━━━━━━━━━━━━━━━━━━━\u001b[0m\u001b[37m\u001b[0m \u001b[1m2s\u001b[0m 2ms/step - accuracy: 0.0981 - loss: nan - val_accuracy: 0.0980 - val_loss: nan\n",
            "Epoch 10/10\n",
            "\u001b[1m938/938\u001b[0m \u001b[32m━━━━━━━━━━━━━━━━━━━━\u001b[0m\u001b[37m\u001b[0m \u001b[1m2s\u001b[0m 2ms/step - accuracy: 0.0964 - loss: nan - val_accuracy: 0.0980 - val_loss: nan\n"
          ]
        },
        {
          "data": {
            "text/plain": [
              "<keras.src.callbacks.history.History at 0x2814252cd10>"
            ]
          },
          "execution_count": 5,
          "metadata": {},
          "output_type": "execute_result"
        }
      ],
      "source": [
        "model.fit(\n",
        "  train_images,\n",
        "  to_categorical(train_labels),\n",
        "  epochs=10,\n",
        "  batch_size=64,\n",
        "  validation_data=(test_images, to_categorical(test_labels)),\n",
        ")"
      ]
    },
    {
      "cell_type": "markdown",
      "id": "474fa2b7-8f3c-4b8d-9ea9-a258043e00e9",
      "metadata": {
        "id": "474fa2b7-8f3c-4b8d-9ea9-a258043e00e9"
      },
      "source": [
        "# ***Testing the Model***"
      ]
    },
    {
      "cell_type": "code",
      "execution_count": null,
      "id": "eefd129d-a791-4803-aecd-9d5391c15ffa",
      "metadata": {
        "id": "eefd129d-a791-4803-aecd-9d5391c15ffa",
        "outputId": "8e475a46-c3ed-4aee-cc4a-181a5ee99a2d"
      },
      "outputs": [
        {
          "name": "stdout",
          "output_type": "stream",
          "text": [
            "\u001b[1m313/313\u001b[0m \u001b[32m━━━━━━━━━━━━━━━━━━━━\u001b[0m\u001b[37m\u001b[0m \u001b[1m0s\u001b[0m 1ms/step - accuracy: 0.0924 - loss: nan\n"
          ]
        },
        {
          "data": {
            "text/plain": [
              "[nan, 0.09799999743700027]"
            ]
          },
          "execution_count": 6,
          "metadata": {},
          "output_type": "execute_result"
        }
      ],
      "source": [
        "model.evaluate(\n",
        "  test_images,\n",
        "  to_categorical(test_labels)\n",
        ")"
      ]
    },
    {
      "cell_type": "markdown",
      "id": "821d0aa8-6a76-41b0-b22c-2d4e5c42018a",
      "metadata": {
        "id": "821d0aa8-6a76-41b0-b22c-2d4e5c42018a"
      },
      "source": [
        "# ***Using the Model***"
      ]
    },
    {
      "cell_type": "code",
      "execution_count": null,
      "id": "ef88d272-0699-4dab-b63d-efee74b862bc",
      "metadata": {
        "id": "ef88d272-0699-4dab-b63d-efee74b862bc"
      },
      "outputs": [],
      "source": [
        "model.save_weights('nn.weights.h5')\n",
        "model.load_weights('nn.weights.h5')"
      ]
    },
    {
      "cell_type": "code",
      "execution_count": null,
      "id": "e9763cc3-b343-4691-8fe2-7d0671c3ab80",
      "metadata": {
        "id": "e9763cc3-b343-4691-8fe2-7d0671c3ab80",
        "outputId": "2046ac0f-a951-41a3-8a1e-4e1cfa179f8c"
      },
      "outputs": [
        {
          "name": "stdout",
          "output_type": "stream",
          "text": [
            "\u001b[1m1/1\u001b[0m \u001b[32m━━━━━━━━━━━━━━━━━━━━\u001b[0m\u001b[37m\u001b[0m \u001b[1m0s\u001b[0m 48ms/step\n",
            "[7 2 1 0 4]\n"
          ]
        }
      ],
      "source": [
        "predictions = model.predict(test_images[:5])\n",
        "print(test_labels[:5])"
      ]
    }
  ],
  "metadata": {
    "kernelspec": {
      "display_name": "Python 3 (ipykernel)",
      "language": "python",
      "name": "python3"
    },
    "language_info": {
      "codemirror_mode": {
        "name": "ipython",
        "version": 3
      },
      "file_extension": ".py",
      "mimetype": "text/x-python",
      "name": "python",
      "nbconvert_exporter": "python",
      "pygments_lexer": "ipython3",
      "version": "3.11.7"
    },
    "colab": {
      "provenance": [],
      "include_colab_link": true
    }
  },
  "nbformat": 4,
  "nbformat_minor": 5
}